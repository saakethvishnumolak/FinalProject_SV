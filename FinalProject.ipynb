{
  "nbformat": 4,
  "nbformat_minor": 0,
  "metadata": {
    "colab": {
      "provenance": []
    },
    "kernelspec": {
      "name": "python3",
      "display_name": "Python 3"
    },
    "language_info": {
      "name": "python"
    }
  },
  "cells": [
    {
      "cell_type": "code",
      "execution_count": 58,
      "metadata": {
        "id": "qcpyE-FFy7qJ"
      },
      "outputs": [],
      "source": [
        "import numpy as np\n",
        "import pandas as pd\n",
        "import matplotlib.pyplot as plt\n",
        "import seaborn as sb"
      ]
    },
    {
      "cell_type": "code",
      "source": [
        "data = pd.read_csv(\"/content/drive/MyDrive/Colab Notebooks/FinalProject/AssaultedOfficerData.csv\")"
      ],
      "metadata": {
        "id": "6tx-irs1zC7k"
      },
      "execution_count": 59,
      "outputs": []
    },
    {
      "cell_type": "code",
      "source": [
        "data.head()"
      ],
      "metadata": {
        "colab": {
          "base_uri": "https://localhost:8080/",
          "height": 496
        },
        "id": "A3XcIKo1zYVX",
        "outputId": "f61a5346-8333-4b7b-ea43-cdb72891c8e7"
      },
      "execution_count": 60,
      "outputs": [
        {
          "output_type": "execute_result",
          "data": {
            "text/plain": [
              "  INCIDENT_NUMBER        DATE_REPORTED         DATE_OCCURED CRIME_TYPE  \\\n",
              "0    80-15-012103  2015-02-15 19:47:00  2015-02-14 21:40:00    ASSAULT   \n",
              "1    80-17-024937  2017-03-28 19:54:00  2017-03-28 19:54:00   HOMICIDE   \n",
              "2    80-16-036554  2016-04-30 17:58:00  2016-04-30 15:00:00    ASSAULT   \n",
              "3    80-16-036554  2016-04-30 17:58:00  2016-04-30 15:00:00    ASSAULT   \n",
              "4    80-18-100369  2018-12-24 15:00:00  2018-12-24 14:17:00   HOMICIDE   \n",
              "\n",
              "                UOR_DESC LEOKA_APPLIES OFFICER_KILLED  \\\n",
              "0   ASSAULT - 1ST DEGREE           YES             NO   \n",
              "1  MURDER POLICE OFFICER           YES            YES   \n",
              "2   ASSAULT - 1ST DEGREE           YES             NO   \n",
              "3   ASSAULT - 1ST DEGREE           YES             NO   \n",
              "4  MURDER POLICE OFFICER           YES            YES   \n",
              "\n",
              "                                  TYPE_OF_ASSIGNMENT  \\\n",
              "0  ONE-MAN VEHICLE ALONE (UNIFORMED OFFICER)     ...   \n",
              "1  ONE-MAN VEHICLE ALONE (UNIFORMED OFFICER)     ...   \n",
              "2  TWO-MAN VEHICLE (UNIFORMED OFFICER)           ...   \n",
              "3  TWO-MAN VEHICLE (UNIFORMED OFFICER)           ...   \n",
              "4  ONE-MAN VEHICLE ALONE (UNIFORMED OFFICER)     ...   \n",
              "\n",
              "                                    TYPE_OF_ACTIVITY NIBRS_CODE UCR_HIERARCHY  \\\n",
              "0  TRAFFIC PURSUIT OR STOPS                      ...        13A        PART I   \n",
              "1  TRAFFIC PURSUIT OR STOPS                      ...        09A        PART I   \n",
              "2  ATTEMPTING OTHER ARREST                       ...        13A        PART I   \n",
              "3  ATTEMPTING OTHER ARREST                       ...        13A        PART I   \n",
              "4  TRAFFIC PURSUIT OR STOPS                      ...        09A        PART I   \n",
              "\n",
              "    ATT_COMP LMPD_DIVISION LMPD_BEAT  \\\n",
              "0  COMPLETED  4TH DIVISION       423   \n",
              "1  COMPLETED  1ST DIVISION       111   \n",
              "2  COMPLETED  1ST DIVISION       135   \n",
              "3  COMPLETED  1ST DIVISION       135   \n",
              "4  COMPLETED  1ST DIVISION       123   \n",
              "\n",
              "                                    PREMISE_TYPE  \\\n",
              "0  HIGHWAY / ROAD / ALLEY                          \n",
              "1  HIGHWAY / ROAD / ALLEY                          \n",
              "2  HIGHWAY / ROAD / ALLEY                          \n",
              "3  HIGHWAY / ROAD / ALLEY                          \n",
              "4  HIGHWAY / ROAD / ALLEY                          \n",
              "\n",
              "                                       BLOCK_ADDRESS OFFENSE_CITY  OFFENSE_ZIP  \n",
              "0  CARLISLE AVE / WOODRUFF AVE                   ...   LOUISVILLE      40215.0  \n",
              "1  N 26TH ST / DUNCAN ST                         ...   LOUISVILLE      40212.0  \n",
              "2  200 BLOCK E CHESTNUT ST                       ...   LOUISVILLE      40202.0  \n",
              "3  200 BLOCK E CHESTNUT ST                       ...   LOUISVILLE      40202.0  \n",
              "4  N 3RD ST / I 64 RAMP                          ...   LOUISVILLE      40202.0  "
            ],
            "text/html": [
              "\n",
              "  <div id=\"df-703d0536-12a2-496f-92b7-027465739c34\">\n",
              "    <div class=\"colab-df-container\">\n",
              "      <div>\n",
              "<style scoped>\n",
              "    .dataframe tbody tr th:only-of-type {\n",
              "        vertical-align: middle;\n",
              "    }\n",
              "\n",
              "    .dataframe tbody tr th {\n",
              "        vertical-align: top;\n",
              "    }\n",
              "\n",
              "    .dataframe thead th {\n",
              "        text-align: right;\n",
              "    }\n",
              "</style>\n",
              "<table border=\"1\" class=\"dataframe\">\n",
              "  <thead>\n",
              "    <tr style=\"text-align: right;\">\n",
              "      <th></th>\n",
              "      <th>INCIDENT_NUMBER</th>\n",
              "      <th>DATE_REPORTED</th>\n",
              "      <th>DATE_OCCURED</th>\n",
              "      <th>CRIME_TYPE</th>\n",
              "      <th>UOR_DESC</th>\n",
              "      <th>LEOKA_APPLIES</th>\n",
              "      <th>OFFICER_KILLED</th>\n",
              "      <th>TYPE_OF_ASSIGNMENT</th>\n",
              "      <th>TYPE_OF_ACTIVITY</th>\n",
              "      <th>NIBRS_CODE</th>\n",
              "      <th>UCR_HIERARCHY</th>\n",
              "      <th>ATT_COMP</th>\n",
              "      <th>LMPD_DIVISION</th>\n",
              "      <th>LMPD_BEAT</th>\n",
              "      <th>PREMISE_TYPE</th>\n",
              "      <th>BLOCK_ADDRESS</th>\n",
              "      <th>OFFENSE_CITY</th>\n",
              "      <th>OFFENSE_ZIP</th>\n",
              "    </tr>\n",
              "  </thead>\n",
              "  <tbody>\n",
              "    <tr>\n",
              "      <th>0</th>\n",
              "      <td>80-15-012103</td>\n",
              "      <td>2015-02-15 19:47:00</td>\n",
              "      <td>2015-02-14 21:40:00</td>\n",
              "      <td>ASSAULT</td>\n",
              "      <td>ASSAULT - 1ST DEGREE</td>\n",
              "      <td>YES</td>\n",
              "      <td>NO</td>\n",
              "      <td>ONE-MAN VEHICLE ALONE (UNIFORMED OFFICER)     ...</td>\n",
              "      <td>TRAFFIC PURSUIT OR STOPS                      ...</td>\n",
              "      <td>13A</td>\n",
              "      <td>PART I</td>\n",
              "      <td>COMPLETED</td>\n",
              "      <td>4TH DIVISION</td>\n",
              "      <td>423</td>\n",
              "      <td>HIGHWAY / ROAD / ALLEY</td>\n",
              "      <td>CARLISLE AVE / WOODRUFF AVE                   ...</td>\n",
              "      <td>LOUISVILLE</td>\n",
              "      <td>40215.0</td>\n",
              "    </tr>\n",
              "    <tr>\n",
              "      <th>1</th>\n",
              "      <td>80-17-024937</td>\n",
              "      <td>2017-03-28 19:54:00</td>\n",
              "      <td>2017-03-28 19:54:00</td>\n",
              "      <td>HOMICIDE</td>\n",
              "      <td>MURDER POLICE OFFICER</td>\n",
              "      <td>YES</td>\n",
              "      <td>YES</td>\n",
              "      <td>ONE-MAN VEHICLE ALONE (UNIFORMED OFFICER)     ...</td>\n",
              "      <td>TRAFFIC PURSUIT OR STOPS                      ...</td>\n",
              "      <td>09A</td>\n",
              "      <td>PART I</td>\n",
              "      <td>COMPLETED</td>\n",
              "      <td>1ST DIVISION</td>\n",
              "      <td>111</td>\n",
              "      <td>HIGHWAY / ROAD / ALLEY</td>\n",
              "      <td>N 26TH ST / DUNCAN ST                         ...</td>\n",
              "      <td>LOUISVILLE</td>\n",
              "      <td>40212.0</td>\n",
              "    </tr>\n",
              "    <tr>\n",
              "      <th>2</th>\n",
              "      <td>80-16-036554</td>\n",
              "      <td>2016-04-30 17:58:00</td>\n",
              "      <td>2016-04-30 15:00:00</td>\n",
              "      <td>ASSAULT</td>\n",
              "      <td>ASSAULT - 1ST DEGREE</td>\n",
              "      <td>YES</td>\n",
              "      <td>NO</td>\n",
              "      <td>TWO-MAN VEHICLE (UNIFORMED OFFICER)           ...</td>\n",
              "      <td>ATTEMPTING OTHER ARREST                       ...</td>\n",
              "      <td>13A</td>\n",
              "      <td>PART I</td>\n",
              "      <td>COMPLETED</td>\n",
              "      <td>1ST DIVISION</td>\n",
              "      <td>135</td>\n",
              "      <td>HIGHWAY / ROAD / ALLEY</td>\n",
              "      <td>200 BLOCK E CHESTNUT ST                       ...</td>\n",
              "      <td>LOUISVILLE</td>\n",
              "      <td>40202.0</td>\n",
              "    </tr>\n",
              "    <tr>\n",
              "      <th>3</th>\n",
              "      <td>80-16-036554</td>\n",
              "      <td>2016-04-30 17:58:00</td>\n",
              "      <td>2016-04-30 15:00:00</td>\n",
              "      <td>ASSAULT</td>\n",
              "      <td>ASSAULT - 1ST DEGREE</td>\n",
              "      <td>YES</td>\n",
              "      <td>NO</td>\n",
              "      <td>TWO-MAN VEHICLE (UNIFORMED OFFICER)           ...</td>\n",
              "      <td>ATTEMPTING OTHER ARREST                       ...</td>\n",
              "      <td>13A</td>\n",
              "      <td>PART I</td>\n",
              "      <td>COMPLETED</td>\n",
              "      <td>1ST DIVISION</td>\n",
              "      <td>135</td>\n",
              "      <td>HIGHWAY / ROAD / ALLEY</td>\n",
              "      <td>200 BLOCK E CHESTNUT ST                       ...</td>\n",
              "      <td>LOUISVILLE</td>\n",
              "      <td>40202.0</td>\n",
              "    </tr>\n",
              "    <tr>\n",
              "      <th>4</th>\n",
              "      <td>80-18-100369</td>\n",
              "      <td>2018-12-24 15:00:00</td>\n",
              "      <td>2018-12-24 14:17:00</td>\n",
              "      <td>HOMICIDE</td>\n",
              "      <td>MURDER POLICE OFFICER</td>\n",
              "      <td>YES</td>\n",
              "      <td>YES</td>\n",
              "      <td>ONE-MAN VEHICLE ALONE (UNIFORMED OFFICER)     ...</td>\n",
              "      <td>TRAFFIC PURSUIT OR STOPS                      ...</td>\n",
              "      <td>09A</td>\n",
              "      <td>PART I</td>\n",
              "      <td>COMPLETED</td>\n",
              "      <td>1ST DIVISION</td>\n",
              "      <td>123</td>\n",
              "      <td>HIGHWAY / ROAD / ALLEY</td>\n",
              "      <td>N 3RD ST / I 64 RAMP                          ...</td>\n",
              "      <td>LOUISVILLE</td>\n",
              "      <td>40202.0</td>\n",
              "    </tr>\n",
              "  </tbody>\n",
              "</table>\n",
              "</div>\n",
              "      <button class=\"colab-df-convert\" onclick=\"convertToInteractive('df-703d0536-12a2-496f-92b7-027465739c34')\"\n",
              "              title=\"Convert this dataframe to an interactive table.\"\n",
              "              style=\"display:none;\">\n",
              "        \n",
              "  <svg xmlns=\"http://www.w3.org/2000/svg\" height=\"24px\"viewBox=\"0 0 24 24\"\n",
              "       width=\"24px\">\n",
              "    <path d=\"M0 0h24v24H0V0z\" fill=\"none\"/>\n",
              "    <path d=\"M18.56 5.44l.94 2.06.94-2.06 2.06-.94-2.06-.94-.94-2.06-.94 2.06-2.06.94zm-11 1L8.5 8.5l.94-2.06 2.06-.94-2.06-.94L8.5 2.5l-.94 2.06-2.06.94zm10 10l.94 2.06.94-2.06 2.06-.94-2.06-.94-.94-2.06-.94 2.06-2.06.94z\"/><path d=\"M17.41 7.96l-1.37-1.37c-.4-.4-.92-.59-1.43-.59-.52 0-1.04.2-1.43.59L10.3 9.45l-7.72 7.72c-.78.78-.78 2.05 0 2.83L4 21.41c.39.39.9.59 1.41.59.51 0 1.02-.2 1.41-.59l7.78-7.78 2.81-2.81c.8-.78.8-2.07 0-2.86zM5.41 20L4 18.59l7.72-7.72 1.47 1.35L5.41 20z\"/>\n",
              "  </svg>\n",
              "      </button>\n",
              "      \n",
              "  <style>\n",
              "    .colab-df-container {\n",
              "      display:flex;\n",
              "      flex-wrap:wrap;\n",
              "      gap: 12px;\n",
              "    }\n",
              "\n",
              "    .colab-df-convert {\n",
              "      background-color: #E8F0FE;\n",
              "      border: none;\n",
              "      border-radius: 50%;\n",
              "      cursor: pointer;\n",
              "      display: none;\n",
              "      fill: #1967D2;\n",
              "      height: 32px;\n",
              "      padding: 0 0 0 0;\n",
              "      width: 32px;\n",
              "    }\n",
              "\n",
              "    .colab-df-convert:hover {\n",
              "      background-color: #E2EBFA;\n",
              "      box-shadow: 0px 1px 2px rgba(60, 64, 67, 0.3), 0px 1px 3px 1px rgba(60, 64, 67, 0.15);\n",
              "      fill: #174EA6;\n",
              "    }\n",
              "\n",
              "    [theme=dark] .colab-df-convert {\n",
              "      background-color: #3B4455;\n",
              "      fill: #D2E3FC;\n",
              "    }\n",
              "\n",
              "    [theme=dark] .colab-df-convert:hover {\n",
              "      background-color: #434B5C;\n",
              "      box-shadow: 0px 1px 3px 1px rgba(0, 0, 0, 0.15);\n",
              "      filter: drop-shadow(0px 1px 2px rgba(0, 0, 0, 0.3));\n",
              "      fill: #FFFFFF;\n",
              "    }\n",
              "  </style>\n",
              "\n",
              "      <script>\n",
              "        const buttonEl =\n",
              "          document.querySelector('#df-703d0536-12a2-496f-92b7-027465739c34 button.colab-df-convert');\n",
              "        buttonEl.style.display =\n",
              "          google.colab.kernel.accessAllowed ? 'block' : 'none';\n",
              "\n",
              "        async function convertToInteractive(key) {\n",
              "          const element = document.querySelector('#df-703d0536-12a2-496f-92b7-027465739c34');\n",
              "          const dataTable =\n",
              "            await google.colab.kernel.invokeFunction('convertToInteractive',\n",
              "                                                     [key], {});\n",
              "          if (!dataTable) return;\n",
              "\n",
              "          const docLinkHtml = 'Like what you see? Visit the ' +\n",
              "            '<a target=\"_blank\" href=https://colab.research.google.com/notebooks/data_table.ipynb>data table notebook</a>'\n",
              "            + ' to learn more about interactive tables.';\n",
              "          element.innerHTML = '';\n",
              "          dataTable['output_type'] = 'display_data';\n",
              "          await google.colab.output.renderOutput(dataTable, element);\n",
              "          const docLink = document.createElement('div');\n",
              "          docLink.innerHTML = docLinkHtml;\n",
              "          element.appendChild(docLink);\n",
              "        }\n",
              "      </script>\n",
              "    </div>\n",
              "  </div>\n",
              "  "
            ]
          },
          "metadata": {},
          "execution_count": 60
        }
      ]
    },
    {
      "cell_type": "code",
      "source": [
        "data.info()"
      ],
      "metadata": {
        "colab": {
          "base_uri": "https://localhost:8080/"
        },
        "id": "VotOII4qzZtO",
        "outputId": "c4423b88-9e36-4b5b-8a2d-7559d56afd6c"
      },
      "execution_count": 61,
      "outputs": [
        {
          "output_type": "stream",
          "name": "stdout",
          "text": [
            "<class 'pandas.core.frame.DataFrame'>\n",
            "RangeIndex: 7069 entries, 0 to 7068\n",
            "Data columns (total 18 columns):\n",
            " #   Column              Non-Null Count  Dtype  \n",
            "---  ------              --------------  -----  \n",
            " 0   INCIDENT_NUMBER     7069 non-null   object \n",
            " 1   DATE_REPORTED       7069 non-null   object \n",
            " 2   DATE_OCCURED        7069 non-null   object \n",
            " 3   CRIME_TYPE          7069 non-null   object \n",
            " 4   UOR_DESC            7069 non-null   object \n",
            " 5   LEOKA_APPLIES       7069 non-null   object \n",
            " 6   OFFICER_KILLED      7069 non-null   object \n",
            " 7   TYPE_OF_ASSIGNMENT  7068 non-null   object \n",
            " 8   TYPE_OF_ACTIVITY    7068 non-null   object \n",
            " 9   NIBRS_CODE          7069 non-null   object \n",
            " 10  UCR_HIERARCHY       7069 non-null   object \n",
            " 11  ATT_COMP            7056 non-null   object \n",
            " 12  LMPD_DIVISION       7069 non-null   object \n",
            " 13  LMPD_BEAT           7067 non-null   object \n",
            " 14  PREMISE_TYPE        7068 non-null   object \n",
            " 15  BLOCK_ADDRESS       7069 non-null   object \n",
            " 16  OFFENSE_CITY        6999 non-null   object \n",
            " 17  OFFENSE_ZIP         6998 non-null   float64\n",
            "dtypes: float64(1), object(17)\n",
            "memory usage: 994.2+ KB\n"
          ]
        }
      ]
    },
    {
      "cell_type": "code",
      "source": [
        "data.OFFENSE_ZIP.value_counts()"
      ],
      "metadata": {
        "colab": {
          "base_uri": "https://localhost:8080/"
        },
        "id": "IGs6Yvl608F1",
        "outputId": "340763c6-45ab-4d71-80e5-1ed3df11d827"
      },
      "execution_count": 62,
      "outputs": [
        {
          "output_type": "execute_result",
          "data": {
            "text/plain": [
              "40202.0    858\n",
              "40203.0    771\n",
              "40211.0    623\n",
              "40215.0    457\n",
              "40212.0    388\n",
              "40208.0    364\n",
              "40210.0    336\n",
              "40204.0    329\n",
              "40214.0    325\n",
              "40219.0    258\n",
              "40216.0    249\n",
              "40218.0    234\n",
              "40272.0    210\n",
              "40258.0    187\n",
              "40213.0    158\n",
              "40206.0    145\n",
              "40217.0    131\n",
              "40229.0    100\n",
              "40205.0     99\n",
              "40220.0     95\n",
              "40207.0     92\n",
              "40209.0     90\n",
              "40241.0     68\n",
              "40291.0     67\n",
              "40118.0     64\n",
              "40228.0     59\n",
              "40243.0     43\n",
              "40222.0     43\n",
              "40245.0     42\n",
              "40299.0     38\n",
              "40223.0     36\n",
              "40242.0     14\n",
              "40059.0     10\n",
              "40023.0      9\n",
              "40056.0      3\n",
              "40225.0      2\n",
              "40177.0      1\n",
              "Name: OFFENSE_ZIP, dtype: int64"
            ]
          },
          "metadata": {},
          "execution_count": 62
        }
      ]
    },
    {
      "cell_type": "code",
      "source": [
        "data = data.drop(data[['DATE_REPORTED', 'DATE_OCCURED', 'UOR_DESC', 'UCR_HIERARCHY', 'ATT_COMP', 'NIBRS_CODE', 'LMPD_BEAT', 'BLOCK_ADDRESS', 'OFFENSE_ZIP']], axis = 1)"
      ],
      "metadata": {
        "id": "eAYw-lMkzaYC"
      },
      "execution_count": 63,
      "outputs": []
    },
    {
      "cell_type": "code",
      "source": [
        "data.info()"
      ],
      "metadata": {
        "colab": {
          "base_uri": "https://localhost:8080/"
        },
        "id": "I_KR92al3dWB",
        "outputId": "32417255-ad8a-434a-80b7-48bf113199de"
      },
      "execution_count": 64,
      "outputs": [
        {
          "output_type": "stream",
          "name": "stdout",
          "text": [
            "<class 'pandas.core.frame.DataFrame'>\n",
            "RangeIndex: 7069 entries, 0 to 7068\n",
            "Data columns (total 9 columns):\n",
            " #   Column              Non-Null Count  Dtype \n",
            "---  ------              --------------  ----- \n",
            " 0   INCIDENT_NUMBER     7069 non-null   object\n",
            " 1   CRIME_TYPE          7069 non-null   object\n",
            " 2   LEOKA_APPLIES       7069 non-null   object\n",
            " 3   OFFICER_KILLED      7069 non-null   object\n",
            " 4   TYPE_OF_ASSIGNMENT  7068 non-null   object\n",
            " 5   TYPE_OF_ACTIVITY    7068 non-null   object\n",
            " 6   LMPD_DIVISION       7069 non-null   object\n",
            " 7   PREMISE_TYPE        7068 non-null   object\n",
            " 8   OFFENSE_CITY        6999 non-null   object\n",
            "dtypes: object(9)\n",
            "memory usage: 497.2+ KB\n"
          ]
        }
      ]
    },
    {
      "cell_type": "code",
      "source": [
        "data.columns"
      ],
      "metadata": {
        "colab": {
          "base_uri": "https://localhost:8080/"
        },
        "id": "kq6Y08IA4Lt2",
        "outputId": "2f8db6d3-2e60-4a00-ac1e-1708f1ea7e13"
      },
      "execution_count": 65,
      "outputs": [
        {
          "output_type": "execute_result",
          "data": {
            "text/plain": [
              "Index(['INCIDENT_NUMBER', 'CRIME_TYPE', 'LEOKA_APPLIES', 'OFFICER_KILLED',\n",
              "       'TYPE_OF_ASSIGNMENT', 'TYPE_OF_ACTIVITY', 'LMPD_DIVISION',\n",
              "       'PREMISE_TYPE', 'OFFENSE_CITY'],\n",
              "      dtype='object')"
            ]
          },
          "metadata": {},
          "execution_count": 65
        }
      ]
    },
    {
      "cell_type": "code",
      "source": [
        "data = pd.get_dummies(data[['INCIDENT_NUMBER', 'CRIME_TYPE', 'LEOKA_APPLIES', 'OFFICER_KILLED',\n",
        "       'TYPE_OF_ASSIGNMENT', 'TYPE_OF_ACTIVITY', 'LMPD_DIVISION',\n",
        "       'PREMISE_TYPE', 'OFFENSE_CITY']], drop_first = True)"
      ],
      "metadata": {
        "id": "Dh9JDMDu4nwK"
      },
      "execution_count": 66,
      "outputs": []
    },
    {
      "cell_type": "code",
      "source": [
        "data.OFFICER_KILLED_YES.value_counts()"
      ],
      "metadata": {
        "colab": {
          "base_uri": "https://localhost:8080/"
        },
        "id": "W0TFPi-46_cI",
        "outputId": "dca15437-8b49-4c99-c130-1c585e83f8fc"
      },
      "execution_count": 72,
      "outputs": [
        {
          "output_type": "execute_result",
          "data": {
            "text/plain": [
              "0    7065\n",
              "1       4\n",
              "Name: OFFICER_KILLED_YES, dtype: int64"
            ]
          },
          "metadata": {},
          "execution_count": 72
        }
      ]
    },
    {
      "cell_type": "markdown",
      "source": [
        "### Splitting Data into X and y"
      ],
      "metadata": {
        "id": "cTItLiij6mmm"
      }
    },
    {
      "cell_type": "code",
      "source": [
        "X = data.drop(\"OFFICER_KILLED_YES\", axis = 1)\n",
        "y = data.OFFICER_KILLED_YES"
      ],
      "metadata": {
        "id": "izSj3N5P52qa"
      },
      "execution_count": 73,
      "outputs": []
    },
    {
      "cell_type": "markdown",
      "source": [
        "### train_test_split"
      ],
      "metadata": {
        "id": "iy0B_NMM7duK"
      }
    },
    {
      "cell_type": "code",
      "source": [
        "from sklearn.model_selection import train_test_split\n",
        "X_train, X_test, y_train, y_test = train_test_split(X,y,test_size=0.2, random_state=0, stratify = y) "
      ],
      "metadata": {
        "id": "-6j1LOlp6xmV"
      },
      "execution_count": 75,
      "outputs": []
    },
    {
      "cell_type": "markdown",
      "source": [
        "## Logistic Regression"
      ],
      "metadata": {
        "id": "2BmeYHQ-8RaS"
      }
    },
    {
      "cell_type": "code",
      "source": [
        "from sklearn.linear_model import LogisticRegression\n",
        "logistic_regressor = LogisticRegression(random_state = 0)\n",
        "logistic_regressor.fit(X_train, y_train)"
      ],
      "metadata": {
        "colab": {
          "base_uri": "https://localhost:8080/"
        },
        "id": "-wE5z8WT70TO",
        "outputId": "b26788da-da77-4801-aae7-472f05b0080d"
      },
      "execution_count": 76,
      "outputs": [
        {
          "output_type": "execute_result",
          "data": {
            "text/plain": [
              "LogisticRegression(random_state=0)"
            ]
          },
          "metadata": {},
          "execution_count": 76
        }
      ]
    },
    {
      "cell_type": "code",
      "source": [
        "logistic_regressor.score(X_train, y_train)"
      ],
      "metadata": {
        "colab": {
          "base_uri": "https://localhost:8080/"
        },
        "id": "9w3RRa748WBG",
        "outputId": "abeca64d-43f7-49eb-86aa-f9a16db3037a"
      },
      "execution_count": 77,
      "outputs": [
        {
          "output_type": "execute_result",
          "data": {
            "text/plain": [
              "0.9994694960212201"
            ]
          },
          "metadata": {},
          "execution_count": 77
        }
      ]
    },
    {
      "cell_type": "code",
      "source": [
        "logistic_regressor.score(X_test, y_test)"
      ],
      "metadata": {
        "colab": {
          "base_uri": "https://localhost:8080/"
        },
        "id": "vuIu-NYa8Z_s",
        "outputId": "5e725625-41ce-4cea-af04-069979eca421"
      },
      "execution_count": 78,
      "outputs": [
        {
          "output_type": "execute_result",
          "data": {
            "text/plain": [
              "0.9992927864214993"
            ]
          },
          "metadata": {},
          "execution_count": 78
        }
      ]
    },
    {
      "cell_type": "markdown",
      "source": [
        "### MSE AND MAE"
      ],
      "metadata": {
        "id": "ZL72QnJU_Ptu"
      }
    },
    {
      "cell_type": "code",
      "source": [
        "from sklearn.metrics import mean_squared_error, mean_absolute_error\n",
        "y_pred_lr = logistic_regressor.predict(X_test)\n",
        "\n",
        "mse_lr = mean_squared_error(y_test, y_pred_lr)\n",
        "mae_lr = mean_absolute_error(y_test, y_pred_lr)\n",
        "print('Mean squared error: ', mse_lr)\n",
        "print('Mean absolute error: ', mae_lr)"
      ],
      "metadata": {
        "colab": {
          "base_uri": "https://localhost:8080/"
        },
        "id": "QDYeIQ2Y9Jjc",
        "outputId": "93ff4a74-53ff-45fa-f4b0-4d463e0f33b9"
      },
      "execution_count": 82,
      "outputs": [
        {
          "output_type": "stream",
          "name": "stdout",
          "text": [
            "Mean squared error:  0.0007072135785007072\n",
            "Mean absolute error:  0.18033946251768035\n"
          ]
        }
      ]
    },
    {
      "cell_type": "markdown",
      "source": [
        "### Model Validation"
      ],
      "metadata": {
        "id": "acpPQJQw8nMd"
      }
    },
    {
      "cell_type": "code",
      "source": [
        "y_pred = logistic_regressor.predict(X_test)\n",
        "\n",
        "from sklearn.metrics import confusion_matrix, ConfusionMatrixDisplay, classification_report\n",
        "cm = confusion_matrix(y_test, y_pred)\n",
        "print(cm)"
      ],
      "metadata": {
        "colab": {
          "base_uri": "https://localhost:8080/"
        },
        "id": "WgMMtlS-8e5b",
        "outputId": "5f7313a7-4e4f-4e5a-9227-d4958b7b8aea"
      },
      "execution_count": 79,
      "outputs": [
        {
          "output_type": "stream",
          "name": "stdout",
          "text": [
            "[[1413    0]\n",
            " [   1    0]]\n"
          ]
        }
      ]
    },
    {
      "cell_type": "code",
      "source": [
        "display = ConfusionMatrixDisplay(confusion_matrix = cm, display_labels = logistic_regressor.classes_)\n",
        "display.plot()\n",
        "plt.show()"
      ],
      "metadata": {
        "colab": {
          "base_uri": "https://localhost:8080/",
          "height": 281
        },
        "id": "ePcrSWbo8wut",
        "outputId": "b1c2ef3e-79e8-4c92-f526-d99c8db24d6f"
      },
      "execution_count": 80,
      "outputs": [
        {
          "output_type": "display_data",
          "data": {
            "text/plain": [
              "<Figure size 432x288 with 2 Axes>"
            ],
            "image/png": "[encoded data removed]"
          },
          "metadata": {
            "needs_background": "light"
          }
        }
      ]
    },
    {
      "cell_type": "code",
      "source": [
        "print(classification_report(y_test, y_pred))"
      ],
      "metadata": {
        "colab": {
          "base_uri": "https://localhost:8080/"
        },
        "id": "iYuZIMZS8zaY",
        "outputId": "6206f5aa-e5e0-4084-f825-743aeb89e951"
      },
      "execution_count": 81,
      "outputs": [
        {
          "output_type": "stream",
          "name": "stdout",
          "text": [
            "              precision    recall  f1-score   support\n",
            "\n",
            "           0       1.00      1.00      1.00      1413\n",
            "           1       0.00      0.00      0.00         1\n",
            "\n",
            "    accuracy                           1.00      1414\n",
            "   macro avg       0.50      0.50      0.50      1414\n",
            "weighted avg       1.00      1.00      1.00      1414\n",
            "\n"
          ]
        },
        {
          "output_type": "stream",
          "name": "stderr",
          "text": [
            "/usr/local/lib/python3.8/dist-packages/sklearn/metrics/_classification.py:1318: UndefinedMetricWarning: Precision and F-score are ill-defined and being set to 0.0 in labels with no predicted samples. Use `zero_division` parameter to control this behavior.\n",
            "  _warn_prf(average, modifier, msg_start, len(result))\n",
            "/usr/local/lib/python3.8/dist-packages/sklearn/metrics/_classification.py:1318: UndefinedMetricWarning: Precision and F-score are ill-defined and being set to 0.0 in labels with no predicted samples. Use `zero_division` parameter to control this behavior.\n",
            "  _warn_prf(average, modifier, msg_start, len(result))\n",
            "/usr/local/lib/python3.8/dist-packages/sklearn/metrics/_classification.py:1318: UndefinedMetricWarning: Precision and F-score are ill-defined and being set to 0.0 in labels with no predicted samples. Use `zero_division` parameter to control this behavior.\n",
            "  _warn_prf(average, modifier, msg_start, len(result))\n"
          ]
        }
      ]
    },
    {
      "cell_type": "markdown",
      "source": [
        "## RFC"
      ],
      "metadata": {
        "id": "F6fktbIE_3I3"
      }
    },
    {
      "cell_type": "code",
      "source": [
        "from sklearn.ensemble import RandomForestClassifier\n",
        "RFC = RandomForestClassifier(n_estimators = 500)\n",
        "RFC.fit(X_train, y_train)"
      ],
      "metadata": {
        "colab": {
          "base_uri": "https://localhost:8080/"
        },
        "id": "EiMDGnNrALZi",
        "outputId": "0f814693-5cfb-4867-c557-28839ae16cc2"
      },
      "execution_count": 83,
      "outputs": [
        {
          "output_type": "execute_result",
          "data": {
            "text/plain": [
              "RandomForestClassifier(n_estimators=500)"
            ]
          },
          "metadata": {},
          "execution_count": 83
        }
      ]
    },
    {
      "cell_type": "code",
      "source": [
        "RFC.score(X_train, y_train)"
      ],
      "metadata": {
        "colab": {
          "base_uri": "https://localhost:8080/"
        },
        "id": "0ySHafoOATk1",
        "outputId": "25d6a118-5cf0-47f0-882f-ea20f691851b"
      },
      "execution_count": 85,
      "outputs": [
        {
          "output_type": "execute_result",
          "data": {
            "text/plain": [
              "1.0"
            ]
          },
          "metadata": {},
          "execution_count": 85
        }
      ]
    },
    {
      "cell_type": "code",
      "source": [
        "RFC.score(X_test, y_test)"
      ],
      "metadata": {
        "colab": {
          "base_uri": "https://localhost:8080/"
        },
        "id": "o1KByi2PATGE",
        "outputId": "53b35c12-b232-4de1-d22b-feccf09fbaf7"
      },
      "execution_count": 84,
      "outputs": [
        {
          "output_type": "execute_result",
          "data": {
            "text/plain": [
              "0.9992927864214993"
            ]
          },
          "metadata": {},
          "execution_count": 84
        }
      ]
    },
    {
      "cell_type": "markdown",
      "source": [
        "### MSE AND MAE"
      ],
      "metadata": {
        "id": "52keojrmAn2I"
      }
    },
    {
      "cell_type": "code",
      "source": [
        "y_pred_RF = RFC.predict(X_test)\n",
        "\n",
        "mse_RF = mean_squared_error(y_test, y_pred_RF)\n",
        "mae_RF = mean_absolute_error(y_test, y_pred_RF)\n",
        "print('Mean squared error: ', mse_RF)\n",
        "print('Mean absolute error: ', mae_RF)"
      ],
      "metadata": {
        "colab": {
          "base_uri": "https://localhost:8080/"
        },
        "id": "mKuUbvjwBYY9",
        "outputId": "dccfe5f2-6c84-4e2f-ca07-752a53abfcab"
      },
      "execution_count": 86,
      "outputs": [
        {
          "output_type": "stream",
          "name": "stdout",
          "text": [
            "Mean squared error:  0.0007072135785007072\n",
            "Mean absolute error:  0.18033946251768035\n"
          ]
        }
      ]
    },
    {
      "cell_type": "markdown",
      "source": [
        "### Model Validation"
      ],
      "metadata": {
        "id": "-o2tuV7rBnc_"
      }
    },
    {
      "cell_type": "code",
      "source": [
        "y_pred = RFC.predict(X_test)\n",
        "\n",
        "from sklearn.metrics import confusion_matrix, ConfusionMatrixDisplay, classification_report\n",
        "cm = confusion_matrix(y_test, y_pred)\n",
        "print(cm)"
      ],
      "metadata": {
        "colab": {
          "base_uri": "https://localhost:8080/"
        },
        "id": "p8rZ4KPJBkhr",
        "outputId": "c6b50823-dce7-435f-9e5f-778cc03dca59"
      },
      "execution_count": 87,
      "outputs": [
        {
          "output_type": "stream",
          "name": "stdout",
          "text": [
            "[[1413    0]\n",
            " [   1    0]]\n"
          ]
        }
      ]
    },
    {
      "cell_type": "code",
      "source": [
        "display = ConfusionMatrixDisplay(confusion_matrix = cm, display_labels = RFC.classes_)\n",
        "display.plot()\n",
        "plt.show()"
      ],
      "metadata": {
        "colab": {
          "base_uri": "https://localhost:8080/",
          "height": 281
        },
        "id": "z7zxmKT2CkBo",
        "outputId": "b2d9b589-dd56-42dc-f45f-e93962618be5"
      },
      "execution_count": 88,
      "outputs": [
        {
          "output_type": "display_data",
          "data": {
            "text/plain": [
              "<Figure size 432x288 with 2 Axes>"
            ],
            "image/png": "[encoded data removed]"
          },
          "metadata": {
            "needs_background": "light"
          }
        }
      ]
    },
    {
      "cell_type": "code",
      "source": [
        "print(classification_report(y_test, y_pred))"
      ],
      "metadata": {
        "colab": {
          "base_uri": "https://localhost:8080/"
        },
        "id": "323F1PcCCoqo",
        "outputId": "c965d3ad-9028-460d-a492-9f2c9c3b8711"
      },
      "execution_count": 89,
      "outputs": [
        {
          "output_type": "stream",
          "name": "stdout",
          "text": [
            "              precision    recall  f1-score   support\n",
            "\n",
            "           0       1.00      1.00      1.00      1413\n",
            "           1       0.00      0.00      0.00         1\n",
            "\n",
            "    accuracy                           1.00      1414\n",
            "   macro avg       0.50      0.50      0.50      1414\n",
            "weighted avg       1.00      1.00      1.00      1414\n",
            "\n"
          ]
        },
        {
          "output_type": "stream",
          "name": "stderr",
          "text": [
            "/usr/local/lib/python3.8/dist-packages/sklearn/metrics/_classification.py:1318: UndefinedMetricWarning: Precision and F-score are ill-defined and being set to 0.0 in labels with no predicted samples. Use `zero_division` parameter to control this behavior.\n",
            "  _warn_prf(average, modifier, msg_start, len(result))\n",
            "/usr/local/lib/python3.8/dist-packages/sklearn/metrics/_classification.py:1318: UndefinedMetricWarning: Precision and F-score are ill-defined and being set to 0.0 in labels with no predicted samples. Use `zero_division` parameter to control this behavior.\n",
            "  _warn_prf(average, modifier, msg_start, len(result))\n",
            "/usr/local/lib/python3.8/dist-packages/sklearn/metrics/_classification.py:1318: UndefinedMetricWarning: Precision and F-score are ill-defined and being set to 0.0 in labels with no predicted samples. Use `zero_division` parameter to control this behavior.\n",
            "  _warn_prf(average, modifier, msg_start, len(result))\n"
          ]
        }
      ]
    },
    {
      "cell_type": "markdown",
      "source": [
        "## DT"
      ],
      "metadata": {
        "id": "MINICX15C8Bi"
      }
    },
    {
      "cell_type": "code",
      "source": [
        "from sklearn.tree import DecisionTreeClassifier\n",
        "dt_gini = DecisionTreeClassifier(criterion = 'gini', max_depth = 15, random_state = 0)\n",
        "dt_gini.fit(X_train, y_train)\n",
        "y_pred_gini = dt_gini.predict(X_test)"
      ],
      "metadata": {
        "id": "sd9LOo9cCu_C"
      },
      "execution_count": 96,
      "outputs": []
    },
    {
      "cell_type": "code",
      "source": [
        "dt_gini.score(X_test, y_test)"
      ],
      "metadata": {
        "colab": {
          "base_uri": "https://localhost:8080/"
        },
        "id": "z-unwTQZGFOB",
        "outputId": "aa691e4d-8a79-4c90-d35a-399890944b3b"
      },
      "execution_count": 97,
      "outputs": [
        {
          "output_type": "execute_result",
          "data": {
            "text/plain": [
              "1.0"
            ]
          },
          "metadata": {},
          "execution_count": 97
        }
      ]
    },
    {
      "cell_type": "code",
      "source": [
        "dt_gini.score(X_train, y_train)"
      ],
      "metadata": {
        "colab": {
          "base_uri": "https://localhost:8080/"
        },
        "id": "ltciAwm9GULL",
        "outputId": "887dba59-6dbe-44a5-a6af-76ab34573644"
      },
      "execution_count": 98,
      "outputs": [
        {
          "output_type": "execute_result",
          "data": {
            "text/plain": [
              "1.0"
            ]
          },
          "metadata": {},
          "execution_count": 98
        }
      ]
    },
    {
      "cell_type": "markdown",
      "source": [
        "### MSE and MAE"
      ],
      "metadata": {
        "id": "l_XfG_oBGZ1N"
      }
    },
    {
      "cell_type": "code",
      "source": [
        "mse_DT = mean_squared_error(y_test, y_pred_gini)\n",
        "mae_DT = mean_absolute_error(y_test, y_pred_gini)\n",
        "print('Mean squared error: ', mse_DT)\n",
        "print('Mean absolute error: ', mae_DT)"
      ],
      "metadata": {
        "colab": {
          "base_uri": "https://localhost:8080/"
        },
        "id": "CHDt7xsFGXVi",
        "outputId": "b94f82c1-01b9-47a7-97f3-5a1dcc183816"
      },
      "execution_count": 99,
      "outputs": [
        {
          "output_type": "stream",
          "name": "stdout",
          "text": [
            "Mean squared error:  0.0\n",
            "Mean absolute error:  0.0\n"
          ]
        }
      ]
    },
    {
      "cell_type": "markdown",
      "source": [
        "### Model Validation"
      ],
      "metadata": {
        "id": "o5lvEu48GvND"
      }
    },
    {
      "cell_type": "code",
      "source": [
        "y_pred = dt_gini.predict(X_test)\n",
        "\n",
        "from sklearn.metrics import confusion_matrix, ConfusionMatrixDisplay, classification_report\n",
        "cm = confusion_matrix(y_test, y_pred)\n",
        "print(cm)"
      ],
      "metadata": {
        "colab": {
          "base_uri": "https://localhost:8080/"
        },
        "id": "AkNEqOiLGrZ-",
        "outputId": "a8037e1c-2259-42ab-bf2a-965ad1f4b0d0"
      },
      "execution_count": 101,
      "outputs": [
        {
          "output_type": "stream",
          "name": "stdout",
          "text": [
            "[[1413    0]\n",
            " [   0    1]]\n"
          ]
        }
      ]
    },
    {
      "cell_type": "code",
      "source": [
        "display = ConfusionMatrixDisplay(confusion_matrix = cm, display_labels = dt_gini.classes_)\n",
        "display.plot()\n",
        "plt.show()"
      ],
      "metadata": {
        "colab": {
          "base_uri": "https://localhost:8080/",
          "height": 281
        },
        "id": "8mrS0k9hG176",
        "outputId": "7706ede3-f2c1-431e-c7a5-786bdc20c368"
      },
      "execution_count": 109,
      "outputs": [
        {
          "output_type": "display_data",
          "data": {
            "text/plain": [
              "<Figure size 432x288 with 2 Axes>"
            ],
            "image/png": "[encoded data removed]"
          },
          "metadata": {
            "needs_background": "light"
          }
        }
      ]
    },
    {
      "cell_type": "code",
      "source": [
        "print(classification_report(y_test, y_pred))"
      ],
      "metadata": {
        "colab": {
          "base_uri": "https://localhost:8080/"
        },
        "id": "WZFvTm5OHGn6",
        "outputId": "98b3fbef-6488-4f52-91f3-25c3e4e35e09"
      },
      "execution_count": 103,
      "outputs": [
        {
          "output_type": "stream",
          "name": "stdout",
          "text": [
            "              precision    recall  f1-score   support\n",
            "\n",
            "           0       1.00      1.00      1.00      1413\n",
            "           1       1.00      1.00      1.00         1\n",
            "\n",
            "    accuracy                           1.00      1414\n",
            "   macro avg       1.00      1.00      1.00      1414\n",
            "weighted avg       1.00      1.00      1.00      1414\n",
            "\n"
          ]
        }
      ]
    },
    {
      "cell_type": "markdown",
      "source": [
        "## SVC"
      ],
      "metadata": {
        "id": "OyU12X0MHP0t"
      }
    },
    {
      "cell_type": "code",
      "source": [
        "from sklearn.svm import SVC\n",
        "SVC_model = SVC()\n",
        "\n",
        "SVC_model.fit(X_train, y_train)"
      ],
      "metadata": {
        "colab": {
          "base_uri": "https://localhost:8080/"
        },
        "id": "-Jq0DXz9HKuD",
        "outputId": "52d4d68f-2adf-4464-b773-80e8be350bbc"
      },
      "execution_count": 105,
      "outputs": [
        {
          "output_type": "execute_result",
          "data": {
            "text/plain": [
              "SVC()"
            ]
          },
          "metadata": {},
          "execution_count": 105
        }
      ]
    },
    {
      "cell_type": "code",
      "source": [
        "SVC_model.score(X_train, y_train)"
      ],
      "metadata": {
        "colab": {
          "base_uri": "https://localhost:8080/"
        },
        "id": "cle5wKdjH1YR",
        "outputId": "c3b4b53a-705a-4ccd-8f4b-ae81cd5096c4"
      },
      "execution_count": 107,
      "outputs": [
        {
          "output_type": "execute_result",
          "data": {
            "text/plain": [
              "0.9994694960212201"
            ]
          },
          "metadata": {},
          "execution_count": 107
        }
      ]
    },
    {
      "cell_type": "code",
      "source": [
        "SVC_model.score(X_test, y_test)"
      ],
      "metadata": {
        "colab": {
          "base_uri": "https://localhost:8080/"
        },
        "id": "MqPmEjwjHthw",
        "outputId": "f8a6247a-f72b-4659-a2cc-703ed5f11ce1"
      },
      "execution_count": 106,
      "outputs": [
        {
          "output_type": "execute_result",
          "data": {
            "text/plain": [
              "0.9992927864214993"
            ]
          },
          "metadata": {},
          "execution_count": 106
        }
      ]
    },
    {
      "cell_type": "markdown",
      "source": [
        "### MSE and MAE"
      ],
      "metadata": {
        "id": "rfjRpt1UIJVJ"
      }
    },
    {
      "cell_type": "code",
      "source": [
        "y_pred_SVC = SVC_model.predict(X_test)\n",
        "\n",
        "mse_SVC = mean_squared_error(y_test, y_pred_SVC)\n",
        "mae_SVC = mean_absolute_error(y_test, y_pred_SVC)\n",
        "print('Mean squared error: ', mse_SVC)\n",
        "print('Mean absolute error: ', mae_SVC)"
      ],
      "metadata": {
        "colab": {
          "base_uri": "https://localhost:8080/"
        },
        "id": "FnFTZa7HH40L",
        "outputId": "72a43c28-63dc-4770-83ca-508513a4979a"
      },
      "execution_count": 108,
      "outputs": [
        {
          "output_type": "stream",
          "name": "stdout",
          "text": [
            "Mean squared error:  0.0007072135785007072\n",
            "Mean absolute error:  0.18033946251768035\n"
          ]
        }
      ]
    },
    {
      "cell_type": "markdown",
      "source": [
        "### Model Validation"
      ],
      "metadata": {
        "id": "6wjr3GtpJeX0"
      }
    },
    {
      "cell_type": "code",
      "source": [
        "y_pred = SVC_model.predict(X_test)\n",
        "\n",
        "from sklearn.metrics import confusion_matrix, ConfusionMatrixDisplay, classification_report\n",
        "cm = confusion_matrix(y_test, y_pred)\n",
        "print(cm)"
      ],
      "metadata": {
        "colab": {
          "base_uri": "https://localhost:8080/"
        },
        "id": "bfpVwzIiJKoP",
        "outputId": "55df1300-962b-4de3-8ba1-24af7fda2112"
      },
      "execution_count": 110,
      "outputs": [
        {
          "output_type": "stream",
          "name": "stdout",
          "text": [
            "[[1413    0]\n",
            " [   1    0]]\n"
          ]
        }
      ]
    },
    {
      "cell_type": "code",
      "source": [
        "display = ConfusionMatrixDisplay(confusion_matrix = cm, display_labels = SVC_model.classes_)\n",
        "display.plot()\n",
        "plt.show()"
      ],
      "metadata": {
        "colab": {
          "base_uri": "https://localhost:8080/",
          "height": 281
        },
        "id": "Kq75P2M9KQ7r",
        "outputId": "06c9f433-535d-4fc3-bc0c-254cff488098"
      },
      "execution_count": 111,
      "outputs": [
        {
          "output_type": "display_data",
          "data": {
            "text/plain": [
              "<Figure size 432x288 with 2 Axes>"
            ],
            "image/png": "[encoded data removed]"
          },
          "metadata": {
            "needs_background": "light"
          }
        }
      ]
    },
    {
      "cell_type": "code",
      "source": [
        "print(classification_report(y_test, y_pred))"
      ],
      "metadata": {
        "colab": {
          "base_uri": "https://localhost:8080/"
        },
        "id": "jUNtZ3quKYMF",
        "outputId": "f15ca8fb-7057-47bb-ecf4-37280383b65f"
      },
      "execution_count": 112,
      "outputs": [
        {
          "output_type": "stream",
          "name": "stdout",
          "text": [
            "              precision    recall  f1-score   support\n",
            "\n",
            "           0       1.00      1.00      1.00      1413\n",
            "           1       0.00      0.00      0.00         1\n",
            "\n",
            "    accuracy                           1.00      1414\n",
            "   macro avg       0.50      0.50      0.50      1414\n",
            "weighted avg       1.00      1.00      1.00      1414\n",
            "\n"
          ]
        },
        {
          "output_type": "stream",
          "name": "stderr",
          "text": [
            "/usr/local/lib/python3.8/dist-packages/sklearn/metrics/_classification.py:1318: UndefinedMetricWarning: Precision and F-score are ill-defined and being set to 0.0 in labels with no predicted samples. Use `zero_division` parameter to control this behavior.\n",
            "  _warn_prf(average, modifier, msg_start, len(result))\n",
            "/usr/local/lib/python3.8/dist-packages/sklearn/metrics/_classification.py:1318: UndefinedMetricWarning: Precision and F-score are ill-defined and being set to 0.0 in labels with no predicted samples. Use `zero_division` parameter to control this behavior.\n",
            "  _warn_prf(average, modifier, msg_start, len(result))\n",
            "/usr/local/lib/python3.8/dist-packages/sklearn/metrics/_classification.py:1318: UndefinedMetricWarning: Precision and F-score are ill-defined and being set to 0.0 in labels with no predicted samples. Use `zero_division` parameter to control this behavior.\n",
            "  _warn_prf(average, modifier, msg_start, len(result))\n"
          ]
        }
      ]
    },
    {
      "cell_type": "markdown",
      "source": [
        "## ANN"
      ],
      "metadata": {
        "id": "-qcnA-AWKeFa"
      }
    },
    {
      "cell_type": "code",
      "source": [
        "from tensorflow.keras import Sequential\n",
        "from tensorflow.keras.layers import Dense"
      ],
      "metadata": {
        "id": "2wFcFIi1KcHS"
      },
      "execution_count": 113,
      "outputs": []
    },
    {
      "cell_type": "code",
      "source": [
        "n_cols = X_train.shape[1]\n",
        "\n",
        "\n",
        "ann = Sequential()\n",
        "\n",
        "ann.add(Dense(150, activation='relu', input_shape=(n_cols,)))\n",
        "ann.add(Dense(150, activation='relu'))\n",
        "ann.add(Dense(150, activation='relu'))\n",
        "ann.add(Dense(150, activation='relu'))\n",
        "ann.add(Dense(150, activation='relu'))\n",
        "ann.add(Dense(1))\n",
        "\n",
        "\n",
        "ann.compile(loss='mse', optimizer='adam', metrics=['mae'])"
      ],
      "metadata": {
        "id": "7C0DoKUYNB9q"
      },
      "execution_count": 114,
      "outputs": []
    },
    {
      "cell_type": "code",
      "source": [
        "history = ann.fit(X_train, y_train, epochs=50, validation_split=0.2, verbose=1)"
      ],
      "metadata": {
        "colab": {
          "base_uri": "https://localhost:8080/"
        },
        "id": "DWULnTOwNURr",
        "outputId": "fb2285b1-5b9d-4c94-e95f-0db4c85e35b8"
      },
      "execution_count": 116,
      "outputs": [
        {
          "output_type": "stream",
          "name": "stdout",
          "text": [
            "Epoch 1/50\n",
            "142/142 [==============================] - 2s 11ms/step - loss: 4.5142e-04 - mae: 0.0019 - val_loss: 8.8219e-04 - val_mae: 0.0011\n",
            "Epoch 2/50\n",
            "142/142 [==============================] - 1s 9ms/step - loss: 4.4027e-04 - mae: 0.0019 - val_loss: 8.8127e-04 - val_mae: 0.0013\n",
            "Epoch 3/50\n",
            "142/142 [==============================] - 1s 9ms/step - loss: 4.0208e-04 - mae: 0.0020 - val_loss: 8.8481e-04 - val_mae: 0.0014\n",
            "Epoch 4/50\n",
            "142/142 [==============================] - 1s 9ms/step - loss: 4.5096e-04 - mae: 0.0019 - val_loss: 8.9365e-04 - val_mae: 0.0055\n",
            "Epoch 5/50\n",
            "142/142 [==============================] - 1s 9ms/step - loss: 4.4405e-04 - mae: 0.0024 - val_loss: 8.8082e-04 - val_mae: 0.0018\n",
            "Epoch 6/50\n",
            "142/142 [==============================] - 1s 9ms/step - loss: 4.4096e-04 - mae: 0.0022 - val_loss: 8.8062e-04 - val_mae: 0.0013\n",
            "Epoch 7/50\n",
            "142/142 [==============================] - 1s 9ms/step - loss: 3.9422e-04 - mae: 0.0022 - val_loss: 8.7853e-04 - val_mae: 0.0016\n",
            "Epoch 8/50\n",
            "142/142 [==============================] - 1s 9ms/step - loss: 2.5251e-04 - mae: 0.0012 - val_loss: 9.3287e-04 - val_mae: 0.0075\n",
            "Epoch 9/50\n",
            "142/142 [==============================] - 1s 9ms/step - loss: 2.3125e-04 - mae: 0.0022 - val_loss: 8.8071e-04 - val_mae: 0.0013\n",
            "Epoch 10/50\n",
            "142/142 [==============================] - 1s 9ms/step - loss: 4.4586e-04 - mae: 0.0010 - val_loss: 0.0012 - val_mae: 0.0195\n",
            "Epoch 11/50\n",
            "142/142 [==============================] - 1s 9ms/step - loss: 4.5783e-04 - mae: 0.0031 - val_loss: 8.8062e-04 - val_mae: 0.0022\n",
            "Epoch 12/50\n",
            "142/142 [==============================] - 1s 9ms/step - loss: 4.4364e-04 - mae: 0.0018 - val_loss: 8.8341e-04 - val_mae: 0.0010\n",
            "Epoch 13/50\n",
            "142/142 [==============================] - 1s 9ms/step - loss: 4.4006e-04 - mae: 0.0019 - val_loss: 8.7324e-04 - val_mae: 0.0016\n",
            "Epoch 14/50\n",
            "142/142 [==============================] - 1s 9ms/step - loss: 4.0101e-04 - mae: 0.0021 - val_loss: 8.6614e-04 - val_mae: 0.0021\n",
            "Epoch 15/50\n",
            "142/142 [==============================] - 1s 9ms/step - loss: 1.4901e-04 - mae: 0.0024 - val_loss: 9.6421e-04 - val_mae: 0.0018\n",
            "Epoch 16/50\n",
            "142/142 [==============================] - 1s 9ms/step - loss: 0.0017 - mae: 0.0018 - val_loss: 8.7678e-04 - val_mae: 0.0013\n",
            "Epoch 17/50\n",
            "142/142 [==============================] - 1s 9ms/step - loss: 4.3699e-04 - mae: 0.0027 - val_loss: 8.5428e-04 - val_mae: 0.0020\n",
            "Epoch 18/50\n",
            "142/142 [==============================] - 2s 11ms/step - loss: 3.7112e-04 - mae: 0.0029 - val_loss: 7.8738e-04 - val_mae: 0.0020\n",
            "Epoch 19/50\n",
            "142/142 [==============================] - 2s 11ms/step - loss: 3.1100e-04 - mae: 0.0022 - val_loss: 8.7387e-04 - val_mae: 0.0022\n",
            "Epoch 20/50\n",
            "142/142 [==============================] - 1s 9ms/step - loss: 4.3578e-04 - mae: 0.0024 - val_loss: 8.6651e-04 - val_mae: 0.0019\n",
            "Epoch 21/50\n",
            "142/142 [==============================] - 1s 9ms/step - loss: 4.0962e-04 - mae: 0.0022 - val_loss: 8.5520e-04 - val_mae: 0.0027\n",
            "Epoch 22/50\n",
            "142/142 [==============================] - 1s 9ms/step - loss: 2.4776e-04 - mae: 0.0023 - val_loss: 8.4183e-04 - val_mae: 0.0033\n",
            "Epoch 23/50\n",
            "142/142 [==============================] - 1s 9ms/step - loss: 1.2187e-04 - mae: 0.0017 - val_loss: 8.3346e-04 - val_mae: 0.0030\n",
            "Epoch 24/50\n",
            "142/142 [==============================] - 1s 9ms/step - loss: 5.2976e-05 - mae: 0.0014 - val_loss: 8.4910e-04 - val_mae: 0.0023\n",
            "Epoch 25/50\n",
            "142/142 [==============================] - 1s 9ms/step - loss: 1.4698e-04 - mae: 0.0019 - val_loss: 8.1385e-04 - val_mae: 0.0031\n",
            "Epoch 26/50\n",
            "142/142 [==============================] - 1s 9ms/step - loss: 1.8109e-04 - mae: 0.0016 - val_loss: 8.1448e-04 - val_mae: 0.0023\n",
            "Epoch 27/50\n",
            "142/142 [==============================] - 1s 9ms/step - loss: 1.8076e-04 - mae: 9.9914e-04 - val_loss: 7.4777e-04 - val_mae: 0.0025\n",
            "Epoch 28/50\n",
            "142/142 [==============================] - 1s 9ms/step - loss: 1.2143e-04 - mae: 8.5953e-04 - val_loss: 7.7929e-04 - val_mae: 0.0026\n",
            "Epoch 29/50\n",
            "142/142 [==============================] - 1s 9ms/step - loss: 8.8461e-05 - mae: 8.2144e-04 - val_loss: 7.5318e-04 - val_mae: 0.0030\n",
            "Epoch 30/50\n",
            "142/142 [==============================] - 1s 9ms/step - loss: 3.3744e-05 - mae: 7.4836e-04 - val_loss: 7.3993e-04 - val_mae: 0.0031\n",
            "Epoch 31/50\n",
            "142/142 [==============================] - 1s 9ms/step - loss: 5.1058e-06 - mae: 6.2687e-04 - val_loss: 7.5104e-04 - val_mae: 0.0031\n",
            "Epoch 32/50\n",
            "142/142 [==============================] - 1s 9ms/step - loss: 2.4926e-06 - mae: 5.6633e-04 - val_loss: 7.6626e-04 - val_mae: 0.0032\n",
            "Epoch 33/50\n",
            "142/142 [==============================] - 1s 9ms/step - loss: 3.2519e-06 - mae: 5.6618e-04 - val_loss: 7.6060e-04 - val_mae: 0.0029\n",
            "Epoch 34/50\n",
            "142/142 [==============================] - 1s 8ms/step - loss: 5.6093e-06 - mae: 5.0685e-04 - val_loss: 7.4423e-04 - val_mae: 0.0030\n",
            "Epoch 35/50\n",
            "142/142 [==============================] - 1s 9ms/step - loss: 9.3841e-06 - mae: 4.8436e-04 - val_loss: 7.2094e-04 - val_mae: 0.0029\n",
            "Epoch 36/50\n",
            "142/142 [==============================] - 1s 9ms/step - loss: 1.5914e-05 - mae: 4.4179e-04 - val_loss: 7.5822e-04 - val_mae: 0.0030\n",
            "Epoch 37/50\n",
            "142/142 [==============================] - 1s 9ms/step - loss: 3.0734e-06 - mae: 5.3303e-04 - val_loss: 7.6433e-04 - val_mae: 0.0030\n",
            "Epoch 38/50\n",
            "142/142 [==============================] - 1s 8ms/step - loss: 2.3809e-05 - mae: 6.8417e-04 - val_loss: 7.3938e-04 - val_mae: 0.0034\n",
            "Epoch 39/50\n",
            "142/142 [==============================] - 1s 9ms/step - loss: 2.2181e-05 - mae: 7.4771e-04 - val_loss: 6.6520e-04 - val_mae: 0.0035\n",
            "Epoch 40/50\n",
            "142/142 [==============================] - 1s 9ms/step - loss: 1.1583e-04 - mae: 9.1993e-04 - val_loss: 7.7633e-04 - val_mae: 0.0037\n",
            "Epoch 41/50\n",
            "142/142 [==============================] - 1s 9ms/step - loss: 6.8589e-05 - mae: 0.0011 - val_loss: 7.6968e-04 - val_mae: 0.0035\n",
            "Epoch 42/50\n",
            "142/142 [==============================] - 1s 9ms/step - loss: 2.8043e-05 - mae: 0.0011 - val_loss: 7.6245e-04 - val_mae: 0.0035\n",
            "Epoch 43/50\n",
            "142/142 [==============================] - 1s 9ms/step - loss: 1.3874e-05 - mae: 9.8641e-04 - val_loss: 7.2232e-04 - val_mae: 0.0036\n",
            "Epoch 44/50\n",
            "142/142 [==============================] - 1s 9ms/step - loss: 1.1208e-05 - mae: 8.1156e-04 - val_loss: 7.6433e-04 - val_mae: 0.0029\n",
            "Epoch 45/50\n",
            "142/142 [==============================] - 1s 9ms/step - loss: 3.7631e-05 - mae: 6.3656e-04 - val_loss: 7.7056e-04 - val_mae: 0.0042\n",
            "Epoch 46/50\n",
            "142/142 [==============================] - 1s 9ms/step - loss: 2.1606e-05 - mae: 6.8975e-04 - val_loss: 7.2631e-04 - val_mae: 0.0032\n",
            "Epoch 47/50\n",
            "142/142 [==============================] - 1s 9ms/step - loss: 3.1635e-05 - mae: 7.2293e-04 - val_loss: 7.6796e-04 - val_mae: 0.0035\n",
            "Epoch 48/50\n",
            "142/142 [==============================] - 1s 9ms/step - loss: 3.6024e-05 - mae: 6.7032e-04 - val_loss: 7.4147e-04 - val_mae: 0.0041\n",
            "Epoch 49/50\n",
            "142/142 [==============================] - 1s 9ms/step - loss: 6.5562e-06 - mae: 6.5958e-04 - val_loss: 7.5927e-04 - val_mae: 0.0034\n",
            "Epoch 50/50\n",
            "142/142 [==============================] - 1s 9ms/step - loss: 7.8222e-06 - mae: 6.3960e-04 - val_loss: 7.2162e-04 - val_mae: 0.0037\n"
          ]
        }
      ]
    },
    {
      "cell_type": "code",
      "source": [
        "plt.figure(figsize=(15,8))\n",
        "plt.xlabel('Epoch')\n",
        "plt.ylabel('Loss') #MSE\n",
        "plt.plot(history.epoch, history.history['loss'],\n",
        "           label='Train Loss')\n",
        "plt.plot(history.epoch, history.history['val_loss'],\n",
        "           label = 'Val loss')\n",
        "plt.title('Model loss')\n",
        "plt.legend()"
      ],
      "metadata": {
        "colab": {
          "base_uri": "https://localhost:8080/",
          "height": 530
        },
        "id": "FwPm0Q5LNqfu",
        "outputId": "bf2790a6-a001-4a3f-8d72-3ecb54e7271d"
      },
      "execution_count": 117,
      "outputs": [
        {
          "output_type": "execute_result",
          "data": {
            "text/plain": [
              "<matplotlib.legend.Legend at 0x7f2dcf212a60>"
            ]
          },
          "metadata": {},
          "execution_count": 117
        },
        {
          "output_type": "display_data",
          "data": {
            "text/plain": [
              "<Figure size 1080x576 with 1 Axes>"
            ],
            "image/png": "[encoded data removed]"
          },
          "metadata": {
            "needs_background": "light"
          }
        }
      ]
    },
    {
      "cell_type": "code",
      "source": [
        "plt.figure(figsize=(15,8))\n",
        "plt.xlabel('Epoch')\n",
        "plt.ylabel('Mean Absolute Error')\n",
        "plt.plot(history.epoch, history.history['mae'],\n",
        "           label='Train error')\n",
        "plt.plot(history.epoch, history.history['val_mae'],\n",
        "           label = 'Val error')\n",
        "plt.title('Model error')\n",
        "plt.legend()"
      ],
      "metadata": {
        "colab": {
          "base_uri": "https://localhost:8080/",
          "height": 530
        },
        "id": "iaGwbAMLOFGE",
        "outputId": "8e28b4e8-3ca5-48f2-ed02-a2db56120fcc"
      },
      "execution_count": 118,
      "outputs": [
        {
          "output_type": "execute_result",
          "data": {
            "text/plain": [
              "<matplotlib.legend.Legend at 0x7f2dcf1dee80>"
            ]
          },
          "metadata": {},
          "execution_count": 118
        },
        {
          "output_type": "display_data",
          "data": {
            "text/plain": [
              "<Figure size 1080x576 with 1 Axes>"
            ],
            "image/png": "[encoded data removed]"
          },
          "metadata": {
            "needs_background": "light"
          }
        }
      ]
    },
    {
      "cell_type": "code",
      "source": [
        "score = ann.evaluate(X_test, y_test, verbose=1)\n",
        "print('loss value: ', score[0]) #MSE\n",
        "print('Mean absolute error: ', score[1])"
      ],
      "metadata": {
        "colab": {
          "base_uri": "https://localhost:8080/"
        },
        "id": "YKYn2YPZOJ86",
        "outputId": "38a49ade-bc1f-4f88-a36b-8e80013fc840"
      },
      "execution_count": 136,
      "outputs": [
        {
          "output_type": "stream",
          "name": "stdout",
          "text": [
            "45/45 [==============================] - 1s 11ms/step - loss: 1.3968e-04 - mae: 0.0032\n",
            "loss value:  0.00013967537961434573\n",
            "Mean absolute error:  0.0032317908480763435\n"
          ]
        }
      ]
    },
    {
      "cell_type": "markdown",
      "source": [
        "### Model Validation"
      ],
      "metadata": {
        "id": "-ZFtUuf7Q9S4"
      }
    },
    {
      "cell_type": "code",
      "source": [
        "y_pred = ann.predict(X_test)\n",
        "y_pred = (y_pred > 0.5)"
      ],
      "metadata": {
        "colab": {
          "base_uri": "https://localhost:8080/"
        },
        "id": "fIgOwFfcRAP-",
        "outputId": "190a022a-1344-4ade-9f5a-a6df3c99d35e"
      },
      "execution_count": 124,
      "outputs": [
        {
          "output_type": "stream",
          "name": "stdout",
          "text": [
            "45/45 [==============================] - 0s 6ms/step\n"
          ]
        }
      ]
    },
    {
      "cell_type": "code",
      "source": [
        "confusion_matrix(y_test, y_pred)"
      ],
      "metadata": {
        "colab": {
          "base_uri": "https://localhost:8080/"
        },
        "id": "hbXsbJ4NRNcf",
        "outputId": "36ae9cd7-fe7b-4c8e-d863-bd77248c790b"
      },
      "execution_count": 125,
      "outputs": [
        {
          "output_type": "execute_result",
          "data": {
            "text/plain": [
              "array([[1413,    0],\n",
              "       [   0,    1]])"
            ]
          },
          "metadata": {},
          "execution_count": 125
        }
      ]
    },
    {
      "cell_type": "code",
      "source": [
        "print(classification_report(y_test, y_pred))\n",
        "ann_score = 1.0"
      ],
      "metadata": {
        "colab": {
          "base_uri": "https://localhost:8080/"
        },
        "id": "a810Vvp3RWfo",
        "outputId": "9d8f2ac5-98cb-44a4-e3bc-cd8014d06da6"
      },
      "execution_count": 128,
      "outputs": [
        {
          "output_type": "stream",
          "name": "stdout",
          "text": [
            "              precision    recall  f1-score   support\n",
            "\n",
            "           0       1.00      1.00      1.00      1413\n",
            "           1       1.00      1.00      1.00         1\n",
            "\n",
            "    accuracy                           1.00      1414\n",
            "   macro avg       1.00      1.00      1.00      1414\n",
            "weighted avg       1.00      1.00      1.00      1414\n",
            "\n"
          ]
        }
      ]
    },
    {
      "cell_type": "markdown",
      "source": [
        "## Pretty Table"
      ],
      "metadata": {
        "id": "8665AB_zOeL0"
      }
    },
    {
      "cell_type": "code",
      "source": [
        "from prettytable import PrettyTable"
      ],
      "metadata": {
        "id": "PQOESbKfOZo0"
      },
      "execution_count": 140,
      "outputs": []
    },
    {
      "cell_type": "code",
      "source": [
        "myTable = PrettyTable([\"Model\", \"Training_score\", \"Test_score\", \"MAE\", \"MSE\"])"
      ],
      "metadata": {
        "id": "xcfa1xUPOwm6"
      },
      "execution_count": 141,
      "outputs": []
    },
    {
      "cell_type": "code",
      "source": [
        "myTable.add_row([\"Logistic Regression\", logistic_regressor.score(X_train, y_train), logistic_regressor.score(X_test, y_test), mae_lr, mse_lr])\n",
        "myTable.add_row([\"Random Forest Classifier\", RFC.score(X_train, y_train), RFC.score(X_test, y_test), mae_RF, mse_RF])\n",
        "myTable.add_row([\"Decision Tree w/ Gini\", dt_gini.score(X_train, y_train), dt_gini.score(X_test, y_test), mae_DT, mse_DT])\n",
        "myTable.add_row([\"SVC\", SVC_model.score(X_train, y_train), SVC_model.score(X_test, y_test), mae_SVC, mse_SVC])\n",
        "myTable.add_row([\"ANN\", ann_score, ann_score, score[1], \"N/a\"])"
      ],
      "metadata": {
        "id": "f7U08HGBO73s"
      },
      "execution_count": 142,
      "outputs": []
    },
    {
      "cell_type": "code",
      "source": [
        "print(myTable)"
      ],
      "metadata": {
        "colab": {
          "base_uri": "https://localhost:8080/"
        },
        "id": "jrb8BAQjRxxR",
        "outputId": "eab24b8f-90c8-419e-e620-80bad33d3509"
      },
      "execution_count": 143,
      "outputs": [
        {
          "output_type": "stream",
          "name": "stdout",
          "text": [
            "+--------------------------+--------------------+--------------------+-----------------------+-----------------------+\n",
            "|          Model           |   Training_score   |     Test_score     |          MAE          |          MSE          |\n",
            "+--------------------------+--------------------+--------------------+-----------------------+-----------------------+\n",
            "|   Logistic Regression    | 0.9994694960212201 | 0.9992927864214993 |  0.18033946251768035  | 0.0007072135785007072 |\n",
            "| Random Forest Classifier |        1.0         | 0.9992927864214993 |  0.18033946251768035  | 0.0007072135785007072 |\n",
            "|  Decision Tree w/ Gini   |        1.0         |        1.0         |          0.0          |          0.0          |\n",
            "|           SVC            | 0.9994694960212201 | 0.9992927864214993 |  0.18033946251768035  | 0.0007072135785007072 |\n",
            "|           ANN            |        1.0         |        1.0         | 0.0032317908480763435 |          N/a          |\n",
            "+--------------------------+--------------------+--------------------+-----------------------+-----------------------+\n"
          ]
        }
      ]
    },
    {
      "cell_type": "code",
      "source": [],
      "metadata": {
        "id": "YS2d7sBCSdZx"
      },
      "execution_count": null,
      "outputs": []
    }
  ]
}